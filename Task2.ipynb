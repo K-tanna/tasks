{
  "nbformat": 4,
  "nbformat_minor": 0,
  "metadata": {
    "colab": {
      "provenance": [],
      "authorship_tag": "ABX9TyMjCMSN0Upm4YGGSIZ/vrit",
      "include_colab_link": true
    },
    "kernelspec": {
      "name": "python3",
      "display_name": "Python 3"
    },
    "language_info": {
      "name": "python"
    }
  },
  "cells": [
    {
      "cell_type": "markdown",
      "metadata": {
        "id": "view-in-github",
        "colab_type": "text"
      },
      "source": [
        "<a href=\"https://colab.research.google.com/github/K-tanna/tasks/blob/main/Task2.ipynb\" target=\"_parent\"><img src=\"https://colab.research.google.com/assets/colab-badge.svg\" alt=\"Open In Colab\"/></a>"
      ]
    },
    {
      "cell_type": "code",
      "execution_count": null,
      "metadata": {
        "colab": {
          "base_uri": "https://localhost:8080/"
        },
        "id": "kKDD-Cwh1Z_v",
        "outputId": "855a001e-4787-4d91-d474-e321b9cf00c4"
      },
      "outputs": [
        {
          "output_type": "stream",
          "name": "stdout",
          "text": [
            "Enter your number:12345\n",
            "The sum od digits in this Number are: 15\n"
          ]
        }
      ],
      "source": [
        "# WAP to  Sum of digits in a number\n",
        "num=input(\"Enter your number:\")\n",
        "sum=0\n",
        "for i in num:  #using loop for adding the digits in number\n",
        "  sum=sum + int(i)\n",
        "print(\"The sum od digits in this Number are:\",sum)"
      ]
    },
    {
      "cell_type": "code",
      "source": [
        "#WAP for removing Duplicates in a List\n",
        "my_list=[10,30,40,60.0,30,50,10]\n",
        "print(list(set(my_list)))\n",
        "for num in my_list:   # loop for printing values in list\n",
        "  if num not in my_list:   #not in is used for removing the duplication of num\n",
        "    print(num)"
      ],
      "metadata": {
        "colab": {
          "base_uri": "https://localhost:8080/"
        },
        "id": "N1jz_d6b4v5_",
        "outputId": "a3688116-c8a2-4911-a7de-5abc97bced18"
      },
      "execution_count": null,
      "outputs": [
        {
          "output_type": "stream",
          "name": "stdout",
          "text": [
            "[40, 10, 50, 60.0, 30]\n"
          ]
        }
      ]
    },
    {
      "cell_type": "code",
      "source": [
        "#WAP to count the Number of words in a sentence\n",
        "\n",
        "sentence=input(\"Enter the Sentence:\")\n",
        "print(\"Your Sentence is:\",sentence)\n",
        "no_of_words=len(sentence)  #len function is used to count the words\n",
        "print(\"Total words in a Sentence are:\",no_of_words)"
      ],
      "metadata": {
        "colab": {
          "base_uri": "https://localhost:8080/"
        },
        "id": "G0r6YEr78-7F",
        "outputId": "8142d3a7-4857-4ab7-d2fd-ac4360c0854b"
      },
      "execution_count": null,
      "outputs": [
        {
          "output_type": "stream",
          "name": "stdout",
          "text": [
            "Enter the Sentence:i am komal\n",
            "Your Sentence is: i am komal\n",
            "Total words in a Sentence are: 10\n"
          ]
        }
      ]
    },
    {
      "cell_type": "code",
      "source": [
        "# List programmes!\n",
        "# Creating a list\n",
        "my_list = [1, 2, 3, 4, 5]\n",
        "\n",
        "# Accessing elements of a list\n",
        "print(\"First element:\", my_list[0])\n",
        "print(\"Last element:\", my_list[-1])\n",
        "\n",
        "# Slicing a list\n",
        "print(\"Sliced elements:\", my_list[1:4])\n",
        "\n",
        "# Adding an element to a list\n",
        "my_list.append(6)\n",
        "print(\"Updated list:\", my_list)\n",
        "\n",
        "# Removing an element from a list\n",
        "my_list.remove(3)\n",
        "print(\"Updated list:\", my_list)\n",
        "\n",
        "# Sorting a list\n",
        "my_list.sort()\n",
        "print(\"Sorted list:\", my_list)\n"
      ],
      "metadata": {
        "colab": {
          "base_uri": "https://localhost:8080/"
        },
        "id": "7qvAWfT8CJkh",
        "outputId": "798bed0c-500d-4dd4-fb34-eff8d19f0ad9"
      },
      "execution_count": null,
      "outputs": [
        {
          "output_type": "stream",
          "name": "stdout",
          "text": [
            "First element: 1\n",
            "Last element: 5\n",
            "Sliced elements: [2, 3, 4]\n",
            "Updated list: [1, 2, 3, 4, 5, 6]\n",
            "Updated list: [1, 2, 4, 5, 6]\n",
            "Sorted list: [1, 2, 4, 5, 6]\n"
          ]
        }
      ]
    },
    {
      "cell_type": "code",
      "source": [
        "#Tuple Programmes\n",
        "# Creating a tuple\n",
        "my_tuple = (1, 2, 3, 4, 5)\n",
        "\n",
        "# Accessing elements of a tuple\n",
        "print(\"First element:\", my_tuple[0])\n",
        "print(\"Last element:\", my_tuple[-1])\n",
        "\n",
        "# Slicing a tuple\n",
        "print(\"Sliced elements:\", my_tuple[1:4])\n",
        "\n",
        "# Converting tuple to list\n",
        "my_list = list(my_tuple)\n",
        "print(\"Converted list:\", my_list)\n",
        "\n",
        "# Adding an element to a tuple (not possible)\n",
        "my_tuple.append(6) # This will give an error\n",
        "\n",
        "# Removing an element from a tuple (not possible)\n",
        "my_tuple.remove(3) # This will give an error\n",
        "\n",
        "# Sorting a tuple (not possible)\n",
        "my_tuple.sort() # This will give an"
      ],
      "metadata": {
        "id": "yvOPJt1HDnOD"
      },
      "execution_count": null,
      "outputs": []
    },
    {
      "cell_type": "code",
      "source": [
        "# Converting int to string\n",
        "my_int = 1234\n",
        "my_str = str(my_int)\n",
        "\n",
        "# Displaying type and size\n",
        "print(\"Type of my_str:\", type(my_str))\n",
        "print(\"Size of my_str:\", len(my_str))"
      ],
      "metadata": {
        "colab": {
          "base_uri": "https://localhost:8080/"
        },
        "id": "mBbZNHU-D3iX",
        "outputId": "28d0abb5-e4dd-4f65-fe74-ca5aa8e3470a"
      },
      "execution_count": null,
      "outputs": [
        {
          "output_type": "stream",
          "name": "stdout",
          "text": [
            "Type of my_str: <class 'str'>\n",
            "Size of my_str: 4\n"
          ]
        }
      ]
    }
  ]
}