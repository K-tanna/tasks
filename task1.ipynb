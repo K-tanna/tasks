{
  "nbformat": 4,
  "nbformat_minor": 0,
  "metadata": {
    "colab": {
      "provenance": [],
      "toc_visible": true,
      "authorship_tag": "ABX9TyM05dIwlk7M85s12fzk/FPe",
      "include_colab_link": true
    },
    "kernelspec": {
      "name": "python3",
      "display_name": "Python 3"
    },
    "language_info": {
      "name": "python"
    }
  },
  "cells": [
    {
      "cell_type": "markdown",
      "metadata": {
        "id": "view-in-github",
        "colab_type": "text"
      },
      "source": [
        "<a href=\"https://colab.research.google.com/github/K-tanna/tasks/blob/main/task1.ipynb\" target=\"_parent\"><img src=\"https://colab.research.google.com/assets/colab-badge.svg\" alt=\"Open In Colab\"/></a>"
      ]
    },
    {
      "cell_type": "code",
      "execution_count": null,
      "metadata": {
        "id": "xAQEnZHdkKGD"
      },
      "outputs": [],
      "source": [
        "import dis\n",
        "def show():\n",
        "  msg=\"Hello\"\n",
        "dis.dis(show)"
      ]
    },
    {
      "cell_type": "code",
      "source": [
        "from os import name      # programme for taking name as input and show welcome message\n",
        "def greet(name):\n",
        "  name=input(\"Enter your name :\")\n",
        "  print(\"Hello!!\"+name)\n",
        "greet(name)    #Calling Greet function"
      ],
      "metadata": {
        "id": "CQgUKAEukNsb"
      },
      "execution_count": null,
      "outputs": []
    },
    {
      "cell_type": "code",
      "source": [
        "# WAP for creating simple calculator which perform +,-,*,/\n",
        "import math\n",
        "no1=int(input(\"Enter value of first no.:\"))\n",
        "no2=int(input(\"Enter value of Second no.:\"))\n",
        "print(\"1.Addition\")\n",
        "print(\"2.Subtraction\")\n",
        "print(\"3.Multiplication\")\n",
        "print(\"4.Division\")\n",
        "print(\"5.Modular\")\n",
        "#print(\"Enter your choice\")\n",
        "ch=int(input(\"Enter your choice!:\")) #taking choice for calculation using conditions\n",
        "\n",
        "if(ch == 1):                          #\n",
        "  print(\"Addition =\",no1+no2)\n",
        "elif(ch == 2):\n",
        "    print(\"Subtraction =\",no1-no2)\n",
        "elif(ch == 3):\n",
        "  print(\"Multiplication=\",no1*no2)\n",
        "elif(ch == 4):\n",
        "    print(\"Division =\",no1/no2)\n",
        "elif(ch == 5):\n",
        "    print(\"Modular =\",no2%no1)\n",
        "else:\n",
        "  print(\"wrong value!!\")\n"
      ],
      "metadata": {
        "id": "lhqSss3fkYmW"
      },
      "execution_count": null,
      "outputs": []
    },
    {
      "cell_type": "code",
      "source": [
        "num=int(input(\"Enter your number:\"))  #WAP for checking whether no is odd or even\n",
        "if(num%2 == 0):    #checking using if else condition\n",
        "  print(\"Number is even!\")\n",
        "else:\n",
        "  print(\"Number is odd!!\")\n"
      ],
      "metadata": {
        "id": "6aES94B5kdXE"
      },
      "execution_count": null,
      "outputs": []
    },
    {
      "cell_type": "code",
      "source": [
        "#WAP to convert celcius into farenghit\n",
        "deg=int(input(\"Enter the degree in celcius:\"))\n",
        "f=(deg*9/5)+32\n",
        "print(\"farenhit is:\",f)"
      ],
      "metadata": {
        "colab": {
          "base_uri": "https://localhost:8080/"
        },
        "id": "Qx6DxwH6keWF",
        "outputId": "2deec05b-683c-4c9a-8296-ea260a10c7c5"
      },
      "execution_count": null,
      "outputs": [
        {
          "output_type": "stream",
          "name": "stdout",
          "text": [
            "Enter the degree in celcius:10\n",
            "farenhit is: 50.0\n"
          ]
        }
      ]
    },
    {
      "cell_type": "code",
      "source": [
        "#WAP to calculate area of circle\n",
        "r=int(input(\"Enter the radius :\"))\n",
        "area=3.14*r*r\n",
        "print(\"Area of Circle is:\",area)"
      ],
      "metadata": {
        "colab": {
          "base_uri": "https://localhost:8080/"
        },
        "id": "0kjMGq2mlXxo",
        "outputId": "89afab6f-30d9-4467-adcd-95f6b681cea8"
      },
      "execution_count": null,
      "outputs": [
        {
          "output_type": "stream",
          "name": "stdout",
          "text": [
            "Enter the radius :10\n",
            "Area of Circle is: 314.0\n"
          ]
        }
      ]
    }
  ]
}